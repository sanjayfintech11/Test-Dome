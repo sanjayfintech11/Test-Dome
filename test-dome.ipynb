{
 "cells": [
  {
   "cell_type": "markdown",
   "metadata": {},
   "source": [
    "# test-dome\n",
    "\n",
    "Use the \"Run\" button to execute the code."
   ]
  },
  {
   "cell_type": "code",
   "execution_count": null,
   "metadata": {},
   "outputs": [],
   "source": [
    "print('Hello World')"
   ]
  },
  {
   "cell_type": "code",
   "execution_count": 3,
   "metadata": {},
   "outputs": [
    {
     "name": "stdout",
     "output_type": "stream",
     "text": [
      "None\n"
     ]
    }
   ],
   "source": [
    "import pandas as pd\n",
    "import numpy as np\n",
    "\n",
    "def class_grades(students):\n",
    "    \"\"\"\n",
    "    :param students: (list) Each element of the list is another list with the \n",
    "      following elements: Student name (string), class name (string), student grade (int).\n",
    "    :returns: (list) Each element is a list with the following \n",
    "      elements: Class name (string), median grade for students in the class (float).\n",
    "    \"\"\"\n",
    "    return None\n",
    "\n",
    "students = [[\"Ana Stevens\", \"1a\", 5], [\"Mark Stevens\", \"1a\", 4], [\"Jon Jones\", \"1a\", 2], [\"Bob Kent\", \"1b\", 4]]\n",
    "print(class_grades(students))"
   ]
  },
  {
   "cell_type": "code",
   "execution_count": 4,
   "metadata": {},
   "outputs": [],
   "source": [
    "students = [[\"Ana Stevens\", \"1a\", 5], [\"Mark Stevens\", \"1a\", 4], [\"Jon Jones\", \"1a\", 2], [\"Bob Kent\", \"1b\", 4]]\n"
   ]
  },
  {
   "cell_type": "code",
   "execution_count": 15,
   "metadata": {},
   "outputs": [
    {
     "data": {
      "text/plain": [
       "array([['Ana Stevens', '1a', '5'],\n",
       "       ['Mark Stevens', '1a', '4'],\n",
       "       ['Jon Jones', '1a', '2'],\n",
       "       ['Bob Kent', '1b', '4']], dtype='<U21')"
      ]
     },
     "execution_count": 15,
     "metadata": {},
     "output_type": "execute_result"
    }
   ],
   "source": [
    "ini_array1 = np.array([[\"Ana Stevens\", \"1a\", 5], [\"Mark Stevens\", \"1a\", 4], [\"Jon Jones\", \"1a\", 2], [\"Bob Kent\", \"1b\", 4]])\n",
    "ini_array1"
   ]
  },
  {
   "cell_type": "code",
   "execution_count": 16,
   "metadata": {},
   "outputs": [
    {
     "name": "stdout",
     "output_type": "stream",
     "text": [
      "initial array [['Ana Stevens' '1a' '5']\n",
      " ['Mark Stevens' '1a' '4']\n",
      " ['Jon Jones' '1a' '2']\n",
      " ['Bob Kent' '1b' '4']]\n"
     ]
    }
   ],
   "source": [
    "print(\"initial array\", str(ini_array1))"
   ]
  },
  {
   "cell_type": "code",
   "execution_count": 17,
   "metadata": {},
   "outputs": [],
   "source": [
    "result = ini_array1.flatten()"
   ]
  },
  {
   "cell_type": "code",
   "execution_count": 18,
   "metadata": {},
   "outputs": [
    {
     "name": "stdout",
     "output_type": "stream",
     "text": [
      "New resulting array:  ['Ana Stevens' '1a' '5' 'Mark Stevens' '1a' '4' 'Jon Jones' '1a' '2'\n",
      " 'Bob Kent' '1b' '4']\n"
     ]
    }
   ],
   "source": [
    "print(\"New resulting array: \", result)"
   ]
  },
  {
   "cell_type": "code",
   "execution_count": 26,
   "metadata": {},
   "outputs": [
    {
     "data": {
      "text/plain": [
       "array(['1a', '5'], dtype='<U21')"
      ]
     },
     "execution_count": 26,
     "metadata": {},
     "output_type": "execute_result"
    }
   ],
   "source": [
    "result1= result[1:3]\n",
    "result1"
   ]
  },
  {
   "cell_type": "code",
   "execution_count": 27,
   "metadata": {},
   "outputs": [
    {
     "data": {
      "text/plain": [
       "array(['1a', '4'], dtype='<U21')"
      ]
     },
     "execution_count": 27,
     "metadata": {},
     "output_type": "execute_result"
    }
   ],
   "source": [
    "result2=result[4:6]\n",
    "result2"
   ]
  },
  {
   "cell_type": "code",
   "execution_count": 29,
   "metadata": {},
   "outputs": [
    {
     "data": {
      "text/plain": [
       "array(['1a', '2'], dtype='<U21')"
      ]
     },
     "execution_count": 29,
     "metadata": {},
     "output_type": "execute_result"
    }
   ],
   "source": [
    "result3=result[7:9]\n",
    "result3"
   ]
  },
  {
   "cell_type": "code",
   "execution_count": 30,
   "metadata": {},
   "outputs": [
    {
     "data": {
      "text/plain": [
       "array(['1b', '4'], dtype='<U21')"
      ]
     },
     "execution_count": 30,
     "metadata": {},
     "output_type": "execute_result"
    }
   ],
   "source": [
    "result4=result[10:12]\n",
    "result4"
   ]
  },
  {
   "cell_type": "code",
   "execution_count": 35,
   "metadata": {},
   "outputs": [
    {
     "ename": "TypeError",
     "evalue": "'tuple' object is not callable",
     "output_type": "error",
     "traceback": [
      "\u001b[0;31m---------------------------------------------------------------------------\u001b[0m",
      "\u001b[0;31mTypeError\u001b[0m                                 Traceback (most recent call last)",
      "\u001b[0;32m/tmp/ipykernel_40/2575942274.py\u001b[0m in \u001b[0;36m<module>\u001b[0;34m\u001b[0m\n\u001b[1;32m     20\u001b[0m     \u001b[0mcropRatio\u001b[0m\u001b[0;34m=\u001b[0m\u001b[0mCropRatio\u001b[0m\u001b[0;34m(\u001b[0m\u001b[0;34m)\u001b[0m\u001b[0;34m;\u001b[0m\u001b[0;34m\u001b[0m\u001b[0;34m\u001b[0m\u001b[0m\n\u001b[1;32m     21\u001b[0m     \u001b[0mcropRatio\u001b[0m\u001b[0;34m.\u001b[0m\u001b[0madd\u001b[0m \u001b[0;34m=\u001b[0m \u001b[0;34m(\u001b[0m\u001b[0;36m0\u001b[0m\u001b[0;34m,\u001b[0m\u001b[0;36m1\u001b[0m\u001b[0;34m)\u001b[0m\u001b[0;34m\u001b[0m\u001b[0;34m\u001b[0m\u001b[0m\n\u001b[0;32m---> 22\u001b[0;31m     \u001b[0mcropRatio\u001b[0m\u001b[0;34m.\u001b[0m\u001b[0madd\u001b[0m\u001b[0;34m(\u001b[0m\u001b[0;34m'Wheat'\u001b[0m\u001b[0;34m,\u001b[0m \u001b[0;36m4\u001b[0m\u001b[0;34m)\u001b[0m\u001b[0;34m\u001b[0m\u001b[0;34m\u001b[0m\u001b[0m\n\u001b[0m\u001b[1;32m     23\u001b[0m     \u001b[0mcropRatio\u001b[0m\u001b[0;34m.\u001b[0m\u001b[0madd\u001b[0m\u001b[0;34m(\u001b[0m\u001b[0;34m'Wheat'\u001b[0m\u001b[0;34m,\u001b[0m \u001b[0;36m5\u001b[0m\u001b[0;34m)\u001b[0m\u001b[0;34m\u001b[0m\u001b[0;34m\u001b[0m\u001b[0m\n\u001b[1;32m     24\u001b[0m     \u001b[0mcropRatio\u001b[0m\u001b[0;34m.\u001b[0m\u001b[0madd\u001b[0m\u001b[0;34m(\u001b[0m\u001b[0;34m'Rice'\u001b[0m\u001b[0;34m,\u001b[0m \u001b[0;36m1\u001b[0m\u001b[0;34m)\u001b[0m\u001b[0;34m\u001b[0m\u001b[0;34m\u001b[0m\u001b[0m\n",
      "\u001b[0;31mTypeError\u001b[0m: 'tuple' object is not callable"
     ]
    }
   ],
   "source": [
    "class CropRatio:\n",
    "\n",
    "    def __init__(self):\n",
    "        self._crops = {}\n",
    "        self._total_weight = 0\n",
    "\n",
    "    def add(self, name, crop_weight):\n",
    "        curr_crop_weight = 0\n",
    "\n",
    "        if not name in self._crops:\n",
    "            self._crops[name] = curr_crop_weight\n",
    "\n",
    "        curr_crop_weight = curr_crop_weight + crop_weight\n",
    "        self._total_weight += 1\n",
    "\n",
    "    def proportion(self, name):\n",
    "        return self._crops[name]/self._total_weight\n",
    "\n",
    "if __name__ == \"__main__\":\n",
    "    cropRatio=CropRatio();\n",
    "    cropRatio.add = (0,1)\n",
    "    cropRatio.add('Wheat', 4)\n",
    "    cropRatio.add('Wheat', 5)\n",
    "    cropRatio.add('Rice', 1)\n",
    "    \n",
    "    print(cropRatio.proportion('Wheat'))"
   ]
  },
  {
   "cell_type": "code",
   "execution_count": 37,
   "metadata": {},
   "outputs": [
    {
     "name": "stdout",
     "output_type": "stream",
     "text": [
      "Task21\n",
      "Task11, Task12\n"
     ]
    }
   ],
   "source": [
    "class TaskResource:\n",
    "    def __init__(self, id):\n",
    "        self.task_list = []\n",
    "        self.id = id\n",
    "\n",
    "    def do_task(self, task):\n",
    "        if self.task_list is None:\n",
    "            raise ValueError\n",
    "\n",
    "        self.task_list.append(task)\n",
    "\n",
    "    def __enter__(self):\n",
    "        return self\n",
    "      \n",
    "    def __exit__(self, exception_type, \\\n",
    "                 exception_value, traceback):\n",
    "        self.task_list = None\n",
    "\n",
    "class Worker:\n",
    "    def __init__(self):\n",
    "        self.task_resources = {}\n",
    "        self.id = None\n",
    "\n",
    "    def acquire_task_resource(self, id):\n",
    "        w = self.task_resources.get(id)\n",
    "        if w is None:\n",
    "            w = TaskResource(id)\n",
    "            self.task_resources[id] = w\n",
    "\n",
    "        return w\n",
    "\n",
    "    def release_task_resource(self, id):\n",
    "        with self.task_resources.get(id) as w:\n",
    "            if w is not None:\n",
    "                del w\n",
    "\n",
    "if __name__ == '__main__':\n",
    "    d = Worker()\n",
    "\n",
    "    d.acquire_task_resource(1).do_task(\"Task11\")\n",
    "    d.acquire_task_resource(2).do_task(\"Task21\")\n",
    "    print(\", \".join(d.acquire_task_resource(2).task_list))\n",
    "    d.release_task_resource(2)\n",
    "    d.acquire_task_resource(1).do_task(\"Task12\")\n",
    "    print(\", \".join(d.acquire_task_resource(1).task_list))\n",
    "    d.release_task_resource(1)"
   ]
  },
  {
   "cell_type": "code",
   "execution_count": null,
   "metadata": {},
   "outputs": [],
   "source": []
  },
  {
   "cell_type": "code",
   "execution_count": null,
   "metadata": {},
   "outputs": [],
   "source": []
  },
  {
   "cell_type": "code",
   "execution_count": null,
   "metadata": {},
   "outputs": [],
   "source": []
  },
  {
   "cell_type": "code",
   "execution_count": null,
   "metadata": {},
   "outputs": [],
   "source": []
  }
 ],
 "metadata": {
  "kernelspec": {
   "display_name": "Python 3 (ipykernel)",
   "language": "python",
   "name": "python3"
  },
  "language_info": {
   "codemirror_mode": {
    "name": "ipython",
    "version": 3
   },
   "file_extension": ".py",
   "mimetype": "text/x-python",
   "name": "python",
   "nbconvert_exporter": "python",
   "pygments_lexer": "ipython3",
   "version": "3.9.7"
  }
 },
 "nbformat": 4,
 "nbformat_minor": 2
}
